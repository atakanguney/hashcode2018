{
 "cells": [
  {
   "cell_type": "code",
   "execution_count": 2,
   "metadata": {},
   "outputs": [],
   "source": [
    "import numpy as np\n",
    "file_name = 'a_example.in'\n",
    "f = open(file_name)\n",
    "lines = f.readlines()\n",
    "f.close()\n",
    "lines = [line[:-1] for line in lines]"
   ]
  },
  {
   "cell_type": "code",
   "execution_count": 3,
   "metadata": {},
   "outputs": [
    {
     "data": {
      "text/plain": [
       "array([[0, 0, 1, 3, 2, 9],\n",
       "       [1, 2, 1, 0, 0, 9],\n",
       "       [2, 0, 2, 2, 0, 9]])"
      ]
     },
     "execution_count": 3,
     "metadata": {},
     "output_type": "execute_result"
    }
   ],
   "source": [
    "first_line = lines[0].split()\n",
    "R = int(first_line[0])\n",
    "C = int(first_line[1])\n",
    "F = int(first_line[2])\n",
    "N = int(first_line[3])\n",
    "B = int(first_line[4])\n",
    "T = int(first_line[5])\n",
    "\n",
    "rides = []\n",
    "for ride in lines[1:]:\n",
    "    temp = ride.split()\n",
    "    rides.append([int(t) for t in temp])\n",
    "    \n",
    "\n",
    "rides = np.array(rides)\n",
    "rides"
   ]
  },
  {
   "cell_type": "code",
   "execution_count": 4,
   "metadata": {
    "collapsed": true
   },
   "outputs": [],
   "source": [
    "def distance(x1,y1,x2,y2):\n",
    "    return abs(x2-x1) + abs(y2-y1)"
   ]
  },
  {
   "cell_type": "code",
   "execution_count": 29,
   "metadata": {},
   "outputs": [],
   "source": [
    "def reachOnTime(x,y, start_x,start_y, dest_x,dest_y, now_time, earliest_start,latest_finish):\n",
    "    car_to_start_dist = distance(x,y,start_x,start_y)\n",
    "    start_to_dest_dist = distance(start_x, start_y, dest_x, dest_y)\n",
    "    total_distance = car_to_start_dist + start_to_dest_dist\n",
    "    total_time = latest_finish - now_time\n",
    "\n",
    "    if now_time>latest_finish:\n",
    "        print 'ERROR Latest finish is already past.'\n",
    "        return -1,-1,-1,-1\n",
    "    \n",
    "    total_waiting_time = total_time - total_distance\n",
    "    is_it_possible_ride = total_waiting_time >= 0 \n",
    "    \n",
    "    precise_waiting_time = (earliest_start - now_time) - car_to_start_dist\n",
    "    is_it_possible_precise_start = precise_waiting_time >= 0\n",
    "    \n",
    "    return is_it_possible_ride, total_waiting_time, is_it_possible_precise_start, precise_waiting_time\n",
    "    \n",
    "    "
   ]
  },
  {
   "cell_type": "code",
   "execution_count": 31,
   "metadata": {},
   "outputs": [
    {
     "data": {
      "text/plain": [
       "(True, 1, False, -3)"
      ]
     },
     "execution_count": 31,
     "metadata": {},
     "output_type": "execute_result"
    }
   ],
   "source": [
    "reachOnTime(1,1,3,4,5,2,5,7,15)"
   ]
  },
  {
   "cell_type": "code",
   "execution_count": null,
   "metadata": {
    "collapsed": true
   },
   "outputs": [],
   "source": []
  }
 ],
 "metadata": {
  "kernelspec": {
   "display_name": "Python 3",
   "language": "python",
   "name": "python3"
  },
  "language_info": {
   "codemirror_mode": {
    "name": "ipython",
    "version": 3
   },
   "file_extension": ".py",
   "mimetype": "text/x-python",
   "name": "python",
   "nbconvert_exporter": "python",
   "pygments_lexer": "ipython3",
   "version": "3.5.4"
  }
 },
 "nbformat": 4,
 "nbformat_minor": 2
}
