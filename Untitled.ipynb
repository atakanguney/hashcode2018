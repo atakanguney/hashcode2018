{
 "cells": [
  {
   "cell_type": "code",
   "execution_count": 2,
   "metadata": {},
   "outputs": [],
   "source": [
    "import numpy as np\n",
    "file_name = 'a_example.in'\n",
    "f = open(file_name)\n",
    "lines = f.readlines()\n",
    "f.close()\n",
    "lines = [line[:-1] for line in lines]"
   ]
  },
  {
   "cell_type": "code",
   "execution_count": 3,
   "metadata": {},
   "outputs": [
    {
     "data": {
      "text/plain": [
       "array([[0, 0, 1, 3, 2, 9],\n",
       "       [1, 2, 1, 0, 0, 9],\n",
       "       [2, 0, 2, 2, 0, 9]])"
      ]
     },
     "execution_count": 3,
     "metadata": {},
     "output_type": "execute_result"
    }
   ],
   "source": [
    "first_line = lines[0].split()\n",
    "R = int(first_line[0])\n",
    "C = int(first_line[1])\n",
    "F = int(first_line[2])\n",
    "N = int(first_line[3])\n",
    "B = int(first_line[4])\n",
    "T = int(first_line[5])\n",
    "\n",
    "rides = []\n",
    "for ride in lines[1:]:\n",
    "    temp = ride.split()\n",
    "    rides.append([int(t) for t in temp])\n",
    "    \n",
    "\n",
    "rides = np.array(rides)\n",
    "rides"
   ]
  },
  {
   "cell_type": "code",
   "execution_count": 4,
   "metadata": {
    "collapsed": true
   },
   "outputs": [],
   "source": [
    "def distance(x1,y1,x2,y2):\n",
    "    return abs(x2-x1) + abs(y2-y1)\n",
    "    "
   ]
  },
  {
   "cell_type": "code",
   "execution_count": null,
   "metadata": {},
   "outputs": [],
   "source": []
  },
  {
   "cell_type": "code",
   "execution_count": null,
   "metadata": {
    "collapsed": true
   },
   "outputs": [],
   "source": []
  }
 ],
 "metadata": {
  "kernelspec": {
   "display_name": "Python 3",
   "language": "python",
   "name": "python3"
  },
  "language_info": {
   "codemirror_mode": {
    "name": "ipython",
    "version": 3
   },
   "file_extension": ".py",
   "mimetype": "text/x-python",
   "name": "python",
   "nbconvert_exporter": "python",
   "pygments_lexer": "ipython3",
   "version": "3.5.4"
  }
 },
 "nbformat": 4,
 "nbformat_minor": 2
}
