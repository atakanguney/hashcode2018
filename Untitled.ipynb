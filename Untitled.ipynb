{
 "cells": [
  {
   "cell_type": "code",
   "execution_count": 14,
   "metadata": {},
   "outputs": [
    {
     "name": "stdout",
     "output_type": "stream",
     "text": [
      "['3 4 2 3 2 10\\n', '0 0 1 3 2 9\\n', '1 2 1 0 0 9\\n', '2 0 2 2 0 9\\n']\n"
     ]
    }
   ],
   "source": [
    "import numpy as np\n",
    "file_name = 'a_example.in'\n",
    "f = open(file_name)\n",
    "lines = f.readlines()\n",
    "f.close()\n",
    "lines = [line[:-1] for line in lines]"
   ]
  },
  {
   "cell_type": "code",
   "execution_count": 15,
   "metadata": {},
   "outputs": [
    {
     "data": {
      "text/plain": [
       "array([[0, 0, 1, 3, 2, 9],\n",
       "       [1, 2, 1, 0, 0, 9],\n",
       "       [2, 0, 2, 2, 0, 9]])"
      ]
     },
     "execution_count": 15,
     "metadata": {},
     "output_type": "execute_result"
    }
   ],
   "source": [
    "first_line = lines[0].split()\n",
    "R = int(first_line[0])\n",
    "C = int(first_line[1])\n",
    "F = int(first_line[2])\n",
    "N = int(first_line[3])\n",
    "B = int(first_line[4])\n",
    "T = int(first_line[5])\n",
    "\n",
    "rides = []\n",
    "for ride in lines[1:]:\n",
    "    temp = ride.split()\n",
    "    rides.append([int(t) for t in temp])\n",
    "    \n",
    "\n",
    "rides = np.array(rides)\n",
    "rides"
   ]
  },
  {
   "cell_type": "code",
   "execution_count": null,
   "metadata": {},
   "outputs": [],
   "source": []
  }
 ],
 "metadata": {
  "kernelspec": {
   "display_name": "Python 3",
   "language": "python",
   "name": "python3"
  },
  "language_info": {
   "codemirror_mode": {
    "name": "ipython",
    "version": 3
   },
   "file_extension": ".py",
   "mimetype": "text/x-python",
   "name": "python",
   "nbconvert_exporter": "python",
   "pygments_lexer": "ipython3",
   "version": "3.6.2"
  }
 },
 "nbformat": 4,
 "nbformat_minor": 2
}
